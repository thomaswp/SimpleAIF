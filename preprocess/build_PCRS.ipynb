{
 "cells": [
  {
   "cell_type": "code",
   "execution_count": null,
   "id": "2c00f7c4",
   "metadata": {},
   "outputs": [],
   "source": [
    "import pandas as pd\n",
    "import numpy as np\n",
    "import seaborn as sns"
   ]
  },
  {
   "cell_type": "code",
   "execution_count": null,
   "id": "9c7da628",
   "metadata": {},
   "outputs": [],
   "source": [
    "%reload_ext autoreload\n",
    "%autoreload 2\n",
    "\n",
    "import sys\n",
    " \n",
    "# setting path\n",
    "sys.path.append('../shared')\n",
    "\n",
    "from progress import ProgressEstimator\n",
    "from progsnap import ProgSnap2Dataset\n",
    "from progsnap import PS2\n",
    "from progsnap import EventType\n",
    "from database import CSVDataProvider"
   ]
  },
  {
   "cell_type": "code",
   "execution_count": null,
   "id": "3c9053c0",
   "metadata": {},
   "outputs": [],
   "source": [
    "submit_columns = [EventType.Submit, EventType.RunProgram, 'Project.Submit']\n",
    "problem_id = 8\n",
    "problem_id_column = PS2.ProblemID\n",
    "code_column = PS2.Code\n",
    "data_folder = \"data/pcrs-f18/\"\n",
    "data_out_folder = \"../server/data/PCRS/\""
   ]
  },
  {
   "cell_type": "code",
   "execution_count": null,
   "id": "99d96bb0",
   "metadata": {},
   "outputs": [],
   "source": [
    "from preprocess import SimpleAIFBuilder\n",
    "\n",
    "dataset = ProgSnap2Dataset(CSVDataProvider(data_folder))\n",
    "\n",
    "builder = SimpleAIFBuilder(\n",
    "    problem_id,\n",
    "    code_column=code_column, \n",
    "    problem_id_column=problem_id_column\n",
    ")\n",
    "builder.build(dataset)"
   ]
  },
  {
   "cell_type": "code",
   "execution_count": null,
   "id": "bfd637aa",
   "metadata": {},
   "outputs": [],
   "source": [
    "import pickle\n",
    "\n",
    "with open(f'{data_out_folder}model-{problem_id}.pkl', 'wb') as f:\n",
    "    pickle.dump(builder.get_trained_classifier(), f)"
   ]
  },
  {
   "cell_type": "code",
   "execution_count": null,
   "id": "bbded37c",
   "metadata": {},
   "outputs": [],
   "source": [
    "estimator = builder.get_trained_progress_model()\n",
    "with open(f'{data_out_folder}/progress-{problem_id}.pkl', 'wb') as f:\n",
    "    pickle.dump(estimator, f)"
   ]
  },
  {
   "cell_type": "code",
   "execution_count": null,
   "id": "66807e66",
   "metadata": {},
   "outputs": [],
   "source": [
    "builder.mean_scores.index"
   ]
  },
  {
   "cell_type": "code",
   "execution_count": null,
   "id": "2209d8c2",
   "metadata": {},
   "outputs": [],
   "source": [
    "builder.get_feature_names()[:50]"
   ]
  },
  {
   "cell_type": "code",
   "execution_count": null,
   "id": "d75bfc47",
   "metadata": {},
   "outputs": [],
   "source": [
    "report, cm = builder.get_training_report()\n",
    "print(report)\n",
    "cm"
   ]
  },
  {
   "cell_type": "code",
   "execution_count": null,
   "id": "d5226949",
   "metadata": {},
   "outputs": [],
   "source": [
    "report, cm = builder.get_cv_report()\n",
    "print(report)\n",
    "cm"
   ]
  },
  {
   "cell_type": "code",
   "execution_count": null,
   "id": "b546a3d0",
   "metadata": {},
   "outputs": [],
   "source": [
    "print(builder.get_correct_submissions()[0])"
   ]
  },
  {
   "cell_type": "code",
   "execution_count": null,
   "id": "8e046ead",
   "metadata": {},
   "outputs": [],
   "source": [
    "# Of all correct submissions, plot the distribution of the number of times each feature appears at least once\n",
    "sns.kdeplot((builder.get_vectorized_submissions()[builder.y_train].toarray() > 0).mean(axis=0))"
   ]
  },
  {
   "cell_type": "code",
   "execution_count": null,
   "id": "757820d8",
   "metadata": {},
   "outputs": [],
   "source": [
    "builder.get_starter_code()"
   ]
  },
  {
   "cell_type": "code",
   "execution_count": null,
   "id": "164408fa",
   "metadata": {},
   "outputs": [],
   "source": [
    "# Plot the progress of all submissions, regardless of their correctness\n",
    "sns.histplot(estimator.predict_proba(builder.X_train))"
   ]
  },
  {
   "cell_type": "code",
   "execution_count": null,
   "id": "5ca6bedb",
   "metadata": {},
   "outputs": [],
   "source": []
  }
 ],
 "metadata": {
  "kernelspec": {
   "display_name": "Python 3",
   "language": "python",
   "name": "python3"
  },
  "language_info": {
   "codemirror_mode": {
    "name": "ipython",
    "version": 3
   },
   "file_extension": ".py",
   "mimetype": "text/x-python",
   "name": "python",
   "nbconvert_exporter": "python",
   "pygments_lexer": "ipython3",
   "version": "3.9.16"
  },
  "vscode": {
   "interpreter": {
    "hash": "b3fee5d4f3b5ecb199b852979c68e41625787e5c54294d622957919c3dfbf6cc"
   }
  }
 },
 "nbformat": 4,
 "nbformat_minor": 5
}
