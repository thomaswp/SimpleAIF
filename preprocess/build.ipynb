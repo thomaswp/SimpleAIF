{
 "cells": [
  {
   "cell_type": "code",
   "execution_count": null,
   "id": "2c00f7c4",
   "metadata": {},
   "outputs": [],
   "source": [
    "import pandas as pd\n",
    "import numpy as np\n",
    "import seaborn as sns\n",
    "import pickle"
   ]
  },
  {
   "cell_type": "code",
   "execution_count": null,
   "id": "9c7da628",
   "metadata": {},
   "outputs": [],
   "source": [
    "%reload_ext autoreload\n",
    "%autoreload 2\n",
    "\n",
    "import sys\n",
    " \n",
    "# setting path\n",
    "sys.path.append('../shared')\n",
    "\n",
    "from progress import ProgressEstimator\n",
    "from progsnap import ProgSnap2Dataset\n",
    "from progsnap import PS2\n",
    "from progsnap import EventType\n",
    "from database import CSVDataProvider"
   ]
  },
  {
   "cell_type": "code",
   "execution_count": null,
   "id": "3c9053c0",
   "metadata": {},
   "outputs": [],
   "source": [
    "submit_columns = [EventType.Submit, EventType.RunProgram, 'Project.Submit']\n",
    "problem_ids = [3,   4,   5,   6,   7,   8,   9,  10,  11,  12,  13,  14,  15,\n",
    "             16,  17,  18,  19,  20,  21,  22,  23,  24,  30,  31,  33,  35,\n",
    "             36,  37,  39,  41,  42,  45,  47,  48,  49,  50,  52,  54,  55,\n",
    "             56,  57,  58,  59,  60,  61,  62,  63,  64,  67,  68,  69,  73,\n",
    "             75,  78,  79,  80,  81,  82,  83,  84,  87,  88,  89,  90,  91,\n",
    "             92, 107, 108, 109, 110, 111, 112, 113, 114, 115, 116, 118, 119,\n",
    "            120, 121, 122, 123, 124, 125, 126, 127, 128, 129, 130, 131, 132,\n",
    "            133, 134, 135, 136, 137, 138, 139, 140]\n",
    "problem_ids = problem_ids[:10]\n",
    "problem_id_column = PS2.ProblemID\n",
    "code_column = PS2.Code\n",
    "data_folder = \"data/pcrs-f18/\"\n",
    "data_out_folder = \"../server/data/PCRS/\""
   ]
  },
  {
   "cell_type": "code",
   "execution_count": null,
   "id": "7ace90c9",
   "metadata": {},
   "outputs": [],
   "source": [
    "dataset = ProgSnap2Dataset(CSVDataProvider(data_folder))"
   ]
  },
  {
   "cell_type": "code",
   "execution_count": null,
   "id": "99d96bb0",
   "metadata": {},
   "outputs": [],
   "source": [
    "from preprocess import SimpleAIFBuilder\n",
    "\n",
    "def build_problem(problem_id):\n",
    "\n",
    "    builder = SimpleAIFBuilder(\n",
    "        problem_id,\n",
    "        code_column=code_column, \n",
    "        problem_id_column=problem_id_column\n",
    "    )\n",
    "    builder.build(dataset)\n",
    "\n",
    "    with open(f'{data_out_folder}model-{problem_id}.pkl', 'wb') as f:\n",
    "        pickle.dump(builder.get_trained_classifier(), f)\n",
    "\n",
    "    estimator = builder.get_trained_progress_model()\n",
    "    with open(f'{data_out_folder}/progress-{problem_id}.pkl', 'wb') as f:\n",
    "        pickle.dump(estimator, f)"
   ]
  },
  {
   "cell_type": "code",
   "execution_count": null,
   "id": "bfd637aa",
   "metadata": {},
   "outputs": [],
   "source": [
    "for problem_id in problem_ids:\n",
    "    print(f\"Building problem {problem_id}\")\n",
    "    build_problem(problem_id)\n",
    "    print(f\"Built problem {problem_id}\")"
   ]
  },
  {
   "cell_type": "code",
   "execution_count": null,
   "id": "c4d8e22c",
   "metadata": {},
   "outputs": [],
   "source": []
  }
 ],
 "metadata": {
  "kernelspec": {
   "display_name": "Python 3",
   "language": "python",
   "name": "python3"
  },
  "language_info": {
   "codemirror_mode": {
    "name": "ipython",
    "version": 3
   },
   "file_extension": ".py",
   "mimetype": "text/x-python",
   "name": "python",
   "nbconvert_exporter": "python",
   "pygments_lexer": "ipython3",
   "version": "3.9.16"
  },
  "vscode": {
   "interpreter": {
    "hash": "b3fee5d4f3b5ecb199b852979c68e41625787e5c54294d622957919c3dfbf6cc"
   }
  }
 },
 "nbformat": 4,
 "nbformat_minor": 5
}
