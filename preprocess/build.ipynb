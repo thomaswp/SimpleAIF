{
 "cells": [
  {
   "cell_type": "code",
   "execution_count": null,
   "id": "2c00f7c4",
   "metadata": {},
   "outputs": [],
   "source": [
    "import pandas as pd\n",
    "import numpy as np\n",
    "import seaborn as sns"
   ]
  },
  {
   "cell_type": "code",
   "execution_count": null,
   "id": "9c7da628",
   "metadata": {},
   "outputs": [],
   "source": [
    "%reload_ext autoreload\n",
    "%autoreload 2\n",
    "\n",
    "import sys\n",
    "\n",
    "# setting path\n",
    "sys.path.append('../')\n",
    "\n",
    "from shared.progress import ProgressEstimator\n",
    "from shared.progsnap import ProgSnap2Dataset, PS2, EventType\n",
    "from shared.database import CSVDataProvider, SQLiteDataProvider\n",
    "from shared.data import SQLiteLogger"
   ]
  },
  {
   "cell_type": "code",
   "execution_count": null,
   "id": "1b01b011",
   "metadata": {},
   "outputs": [],
   "source": [
    "from configs import config_PCRS, config_iSnap, config_CWO\n",
    "\n",
    "# Assign variable directly so Pylance doesn't get upset\n",
    "submit_columns = None\n",
    "test_problem_id = None\n",
    "problem_id_column = None\n",
    "code_column = None\n",
    "data_folder = None\n",
    "database = None\n",
    "\n",
    "# Chose the config you want to use\n",
    "locals().update(config_PCRS)"
   ]
  },
  {
   "cell_type": "code",
   "execution_count": null,
   "id": "214fd6cc",
   "metadata": {},
   "outputs": [],
   "source": [
    "# List problem IDs, in case you want to select a subset\n",
    "dataset = ProgSnap2Dataset(CSVDataProvider(data_folder))\n",
    "problem_ids = dataset.get_main_table()[problem_id_column].unique()\n",
    "problem_ids"
   ]
  },
  {
   "cell_type": "code",
   "execution_count": null,
   "id": "f2f3a6bb",
   "metadata": {},
   "outputs": [],
   "source": [
    "# Optionally, select a subset of problem_ids\n",
    "problem_ids = problem_ids[:5]\n",
    "problem_ids"
   ]
  },
  {
   "cell_type": "code",
   "execution_count": null,
   "id": "7ace90c9",
   "metadata": {},
   "outputs": [],
   "source": [
    "dataset = ProgSnap2Dataset(CSVDataProvider(data_folder))\n",
    "logger = SQLiteLogger(database)"
   ]
  },
  {
   "cell_type": "code",
   "execution_count": null,
   "id": "eb1dca95",
   "metadata": {},
   "outputs": [],
   "source": [
    "# Optional, clear the existing models\n",
    "logger.clear_table(\"Models\")"
   ]
  },
  {
   "cell_type": "code",
   "execution_count": null,
   "id": "99d96bb0",
   "metadata": {},
   "outputs": [],
   "source": [
    "from shared.preprocess import SimpleAIFBuilder\n",
    "\n",
    "def build_problem(problem_id):\n",
    "\n",
    "    builder = SimpleAIFBuilder(\n",
    "        problem_id,\n",
    "        code_column=code_column,\n",
    "        problem_id_column=problem_id_column\n",
    "    )\n",
    "    builder.build(dataset)\n",
    "\n",
    "    classifier = builder.get_trained_classifier()\n",
    "    estimator = builder.get_trained_progress_model()\n",
    "    correct_count = int(builder.X_train[builder.y_train].unique().size)\n",
    "    logger.set_models(problem_id, estimator, classifier, correct_count)"
   ]
  },
  {
   "cell_type": "code",
   "execution_count": null,
   "id": "bfd637aa",
   "metadata": {},
   "outputs": [],
   "source": [
    "for problem_id in problem_ids:\n",
    "    print(f\"Building problem {problem_id}\")\n",
    "    build_problem(problem_id)\n",
    "    print(f\"Built problem {problem_id}\")"
   ]
  },
  {
   "cell_type": "code",
   "execution_count": null,
   "id": "c4d8e22c",
   "metadata": {},
   "outputs": [],
   "source": [
    "# Test to confirm you can get a specific model\n",
    "progress, classifier = logger.get_models(test_problem_id)\n",
    "progress"
   ]
  }
 ],
 "metadata": {
  "kernelspec": {
   "display_name": "Python 3",
   "language": "python",
   "name": "python3"
  },
  "language_info": {
   "codemirror_mode": {
    "name": "ipython",
    "version": 3
   },
   "file_extension": ".py",
   "mimetype": "text/x-python",
   "name": "python",
   "nbconvert_exporter": "python",
   "pygments_lexer": "ipython3",
   "version": "3.9.16"
  },
  "vscode": {
   "interpreter": {
    "hash": "b3fee5d4f3b5ecb199b852979c68e41625787e5c54294d622957919c3dfbf6cc"
   }
  }
 },
 "nbformat": 4,
 "nbformat_minor": 5
}
