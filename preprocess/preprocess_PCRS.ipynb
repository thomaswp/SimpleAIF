{
 "cells": [
  {
   "cell_type": "code",
   "execution_count": null,
   "metadata": {},
   "outputs": [],
   "source": [
    "import pandas as pd\n",
    "%reload_ext autoreload\n",
    "%autoreload 2\n",
    "\n",
    "import sys\n",
    " \n",
    "# setting path\n",
    "sys.path.append('../shared')\n",
    "\n",
    "from progress import ProgressEstimator\n",
    "from progsnap import ProgSnap2Dataset\n",
    "from progsnap import PS2\n",
    "from progsnap import EventType"
   ]
  },
  {
   "cell_type": "code",
   "execution_count": null,
   "metadata": {},
   "outputs": [],
   "source": [
    "submit_columns = [EventType.Submit, EventType.RunProgram, 'Project.Submit']\n",
    "problem_id = 3\n",
    "problem_id_column = PS2.ProblemID\n",
    "code_column = PS2.Code\n",
    "data_folder = \"data/pcrs-f18/\""
   ]
  },
  {
   "cell_type": "code",
   "execution_count": null,
   "metadata": {},
   "outputs": [],
   "source": [
    "from preprocess import SimpleAIFBuilder\n",
    "\n",
    "data = ProgSnap2Dataset(data_folder)\n",
    "submissions = SimpleAIFBuilder.get_submissions_table(data, submit_columns)\n",
    "submissions.head()"
   ]
  },
  {
   "cell_type": "code",
   "execution_count": null,
   "metadata": {},
   "outputs": [],
   "source": [
    "def extract_starter_code(code):\n",
    "    lines = code.split(\"\\n\")\n",
    "    starter = \"\"\n",
    "    comment_lines = 0\n",
    "    for line in lines:\n",
    "        if line.strip().startswith('\"\"\"'):\n",
    "            comment_lines += 1\n",
    "        starter += line + \"\\n\"\n",
    "        if comment_lines == 2:\n",
    "            break\n",
    "    if comment_lines < 2:\n",
    "        return \"\"\n",
    "    return starter\n",
    "\n",
    "# extract_starter_code(code[0])"
   ]
  },
  {
   "cell_type": "code",
   "execution_count": null,
   "metadata": {},
   "outputs": [],
   "source": [
    "def extract_problem_starter_code(all_code):\n",
    "    samples = all_code[:50]\n",
    "    common_code = pd.Series([extract_starter_code(code) for code in samples]).value_counts().sort_values(ascending=False)\n",
    "    return common_code.index[0]\n",
    "\n",
    "# extract_problem_starter_code(code)"
   ]
  },
  {
   "cell_type": "code",
   "execution_count": null,
   "metadata": {},
   "outputs": [],
   "source": [
    "problem_ids = submissions[problem_id_column].unique()\n",
    "starter_code = []\n",
    "for problem_id in problem_ids:\n",
    "    assignment_submissions = submissions[submissions[problem_id_column] == problem_id]\n",
    "    assignment_code = SimpleAIFBuilder.get_code_table(data, assignment_submissions, problem_id_column, code_column)[\"Code\"]\n",
    "    starter_code.append(extract_problem_starter_code(assignment_code))\n",
    "\n",
    "starter_code = pd.DataFrame({problem_id_column: problem_ids, \"StarterCode\": starter_code})\n",
    "starter_code"
   ]
  },
  {
   "cell_type": "code",
   "execution_count": null,
   "metadata": {},
   "outputs": [],
   "source": [
    "starter_code.to_csv(data_folder + \"LinkTables/Problem.csv\", index=False)"
   ]
  }
 ],
 "metadata": {
  "kernelspec": {
   "display_name": "Python 3.9.18 (conda)",
   "language": "python",
   "name": "python3"
  },
  "language_info": {
   "codemirror_mode": {
    "name": "ipython",
    "version": 3
   },
   "file_extension": ".py",
   "mimetype": "text/x-python",
   "name": "python",
   "nbconvert_exporter": "python",
   "pygments_lexer": "ipython3",
   "version": "3.9.16"
  },
  "orig_nbformat": 4,
  "vscode": {
   "interpreter": {
    "hash": "b3fee5d4f3b5ecb199b852979c68e41625787e5c54294d622957919c3dfbf6cc"
   }
  }
 },
 "nbformat": 4,
 "nbformat_minor": 2
}
